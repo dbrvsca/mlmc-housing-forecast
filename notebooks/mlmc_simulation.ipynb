{
 "cells": [
  {
   "cell_type": "code",
   "execution_count": null,
   "metadata": {},
   "outputs": [],
   "source": [
    "import pandas as pd\n",
    "import numpy as np\n",
    "import matplotlib.pyplot as plt\n"
   ]
  },
  {
   "cell_type": "markdown",
   "metadata": {},
   "source": [
    "Step 1: Load and clean data from Excel"
   ]
  },
  {
   "cell_type": "code",
   "execution_count": null,
   "metadata": {},
   "outputs": [],
   "source": [
    "\n",
    "file_path = \"../data/obrot_nieruchomosciami_w_2023_r_003.xlsx\"\n",
    "\n",
    "def load_and_clean_table(filepath, sheet_name, skiprows=4):\n",
    "    df = pd.read_excel(filepath, sheet_name=sheet_name, skiprows=skiprows)\n",
    "    df.columns = ['Category', 'Number of Properties', 'Value (thousands PLN)', 'Usable Area (m2)']\n",
    "    df = df.dropna(subset=['Value (thousands PLN)', 'Usable Area (m2)'])\n",
    "    df['Value (thousands PLN)'] = pd.to_numeric(df['Value (thousands PLN)'], errors='coerce')\n",
    "    df['Usable Area (m2)'] = pd.to_numeric(df['Usable Area (m2)'], errors='coerce')\n",
    "    return df\n",
    "\n",
    "def calculate_avg_price_per_m2(df):\n",
    "    total_value_pln = df['Value (thousands PLN)'].sum() * 1000\n",
    "    total_area = df['Usable Area (m2)'].sum()\n",
    "    return total_value_pln / total_area\n"
   ]
  },
  {
   "cell_type": "code",
   "execution_count": null,
   "metadata": {},
   "outputs": [],
   "source": [
    "# Load data for primary and secondary markets\n",
    "df_primary = load_and_clean_table(file_path, \"Tabl_8\")\n",
    "df_secondary = load_and_clean_table(file_path, \"Tabl_10\")\n",
    "\n",
    "avg_price_primary = calculate_avg_price_per_m2(df_primary)\n",
    "avg_price_secondary = calculate_avg_price_per_m2(df_secondary)\n",
    "\n",
    "print(f\"Primary market avg price: {avg_price_primary:.2f} PLN/m²\")\n",
    "print(f\"Secondary market avg price: {avg_price_secondary:.2f} PLN/m²\")"
   ]
  },
  {
   "cell_type": "code",
   "execution_count": null,
   "metadata": {},
   "outputs": [],
   "source": [
    "# Common simulation parameters\n",
    "mu = 0.03\n",
    "sigma = 0.15\n",
    "T = 3\n",
    "n_simulations = 10000\n",
    "n_steps = 12 * T"
   ]
  },
  {
   "cell_type": "code",
   "execution_count": null,
   "metadata": {},
   "outputs": [],
   "source": [
    "def monte_carlo_simulation(initial_price):\n",
    "    dt = T / n_steps\n",
    "    prices = np.zeros((n_simulations, n_steps + 1))\n",
    "    prices[:, 0] = initial_price\n",
    "\n",
    "    for t in range(1, n_steps + 1):\n",
    "        Z = np.random.standard_normal(n_simulations)\n",
    "        prices[:, t] = prices[:, t - 1] * np.exp((mu - 0.5 * sigma ** 2) * dt + sigma * np.sqrt(dt) * Z)\n",
    "\n",
    "    final_prices = prices[:, -1]\n",
    "    mean_price = np.mean(final_prices)\n",
    "\n",
    "    # Histogram\n",
    "    plt.hist(final_prices, bins=50, color='skyblue', edgecolor='black')\n",
    "    plt.axvline(mean_price, color='red', linestyle='--', label=f'Mean: {mean_price:.2f} PLN/m²')\n",
    "    plt.title(f\"Monte Carlo Simulation\\nForecast for Initial Price {initial_price:.2f} PLN/m²\")\n",
    "    plt.xlabel(\"Price per m² [PLN]\")\n",
    "    plt.ylabel(\"Number of Simulations\")\n",
    "    plt.legend()\n",
    "    plt.grid(True)\n",
    "    plt.show()\n",
    "\n",
    "    return mean_price"
   ]
  },
  {
   "cell_type": "code",
   "execution_count": null,
   "metadata": {},
   "outputs": [],
   "source": [
    "\n",
    "mc_primary = monte_carlo_simulation(avg_price_primary)\n",
    "mc_secondary = monte_carlo_simulation(avg_price_secondary)\n",
    "print(f\"Monte Carlo forecast (primary): {mc_primary:.2f} PLN/m²\")\n",
    "print(f\"Monte Carlo forecast (secondary): {mc_secondary:.2f} PLN/m²\")"
   ]
  },
  {
   "cell_type": "code",
   "execution_count": null,
   "metadata": {},
   "outputs": [],
   "source": [
    "# MLMC Simulation\n",
    "def simulate_gbm(level, n_samples, T, initial_price, mu, sigma):\n",
    "    n_steps = 2 ** level\n",
    "    dt = T / n_steps\n",
    "    prices = np.full(n_samples, initial_price)\n",
    "    for _ in range(n_steps):\n",
    "        Z = np.random.standard_normal(n_samples)\n",
    "        prices *= np.exp((mu - 0.5 * sigma ** 2) * dt + sigma * np.sqrt(dt) * Z)\n",
    "    return prices"
   ]
  },
  {
   "cell_type": "code",
   "execution_count": null,
   "metadata": {},
   "outputs": [],
   "source": [
    "def mlmc_estimate(max_level, samples_per_level, T, initial_price, mu, sigma):\n",
    "    estimate = 0.0\n",
    "    for level in range(max_level + 1):\n",
    "        n = samples_per_level[level]\n",
    "        if level == 0:\n",
    "            f_coarse = simulate_gbm(0, n, T, initial_price, mu, sigma)\n",
    "            estimate += np.mean(f_coarse)\n",
    "        else:\n",
    "            f_fine = simulate_gbm(level, n, T, initial_price, mu, sigma)\n",
    "            f_coarse = simulate_gbm(level - 1, n, T, initial_price, mu, sigma)\n",
    "            diff = f_fine - f_coarse\n",
    "            estimate += np.mean(diff)\n",
    "    return estimate"
   ]
  },
  {
   "cell_type": "code",
   "execution_count": null,
   "metadata": {},
   "outputs": [],
   "source": [
    "max_level = 4\n",
    "samples_per_level = [10000, 5000, 2500, 1250, 625]\n",
    "\n",
    "mlmc_primary = mlmc_estimate(max_level, samples_per_level, T, avg_price_primary, mu, sigma)\n",
    "mlmc_secondary = mlmc_estimate(max_level, samples_per_level, T, avg_price_secondary, mu, sigma)\n",
    "\n",
    "print(f\"MLMC forecast (primary): {mlmc_primary:.2f} PLN/m²\")\n",
    "print(f\"MLMC forecast (secondary): {mlmc_secondary:.2f} PLN/m²\")"
   ]
  },
  {
   "cell_type": "code",
   "execution_count": null,
   "metadata": {},
   "outputs": [],
   "source": [
    "# Comparison bar chart\n",
    "labels = ['Primary', 'Secondary']\n",
    "mc_values = [mc_primary, mc_secondary]\n",
    "mlmc_values = [mlmc_primary, mlmc_secondary]\n",
    "\n",
    "x = np.arange(len(labels))\n",
    "width = 0.35\n",
    "\n",
    "fig, ax = plt.subplots()\n",
    "bars1 = ax.bar(x - width/2, mc_values, width, label='Monte Carlo', color='skyblue')\n",
    "bars2 = ax.bar(x + width/2, mlmc_values, width, label='MLMC', color='lightgreen')\n",
    "\n",
    "ax.set_ylabel('Forecasted Price (PLN/m²)')\n",
    "ax.set_title('Forecasted Prices by Method and Market')\n",
    "ax.set_xticks(x)\n",
    "ax.set_xticklabels(labels)\n",
    "ax.legend()\n"
   ]
  },
  {
   "cell_type": "code",
   "execution_count": null,
   "metadata": {},
   "outputs": [],
   "source": [
    "for bar in bars1 + bars2:\n",
    "    height = bar.get_height()\n",
    "    ax.annotate(f'{height:.0f}',\n",
    "                xy=(bar.get_x() + bar.get_width() / 2, height),\n",
    "                xytext=(0, 3),\n",
    "                textcoords=\"offset points\",\n",
    "                ha='center', va='bottom')\n",
    "\n",
    "plt.tight_layout()\n",
    "plt.grid(True)\n",
    "plt.show()\n"
   ]
  }
 ],
 "metadata": {
  "kernelspec": {
   "display_name": "Python 3",
   "language": "python",
   "name": "python3"
  },
  "language_info": {
   "name": "python",
   "version": "3.10.11"
  }
 },
 "nbformat": 4,
 "nbformat_minor": 2
}
